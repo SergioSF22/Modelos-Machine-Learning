{
 "cells": [
  {
   "cell_type": "markdown",
   "metadata": {},
   "source": [
    "### ENTRENAR MODELO DE REGRESIÓN LOGÍSTICA MULTINOMINAL\n",
    "A partir del CSV de 'nutrition.csv':\n",
    "- Características: valor nutricional y peso\n",
    "- Etiquetas: Sano, medio y no sano."
   ]
  },
  {
   "cell_type": "code",
   "execution_count": 2,
   "metadata": {},
   "outputs": [],
   "source": [
    "# Cargamos las librerías necesarias\n",
    "from sklearn.model_selection import train_test_split\n",
    "from sklearn.linear_model import LogisticRegression\n",
    "from sklearn.metrics import classification_report, ConfusionMatrixDisplay\n",
    "from sklearn.preprocessing import StandardScaler\n",
    "import pandas as pd\n",
    "import numpy as np\n",
    "import matplotlib as plt"
   ]
  },
  {
   "cell_type": "markdown",
   "metadata": {},
   "source": [
    "#### Carga y limpieza de datos"
   ]
  },
  {
   "cell_type": "code",
   "execution_count": null,
   "metadata": {},
   "outputs": [
    {
     "name": "stdout",
     "output_type": "stream",
     "text": [
      "    calories categoria\n",
      "1      300.0     Medio\n",
      "12     330.0   No sano\n",
      "15     200.0     Medio\n",
      "20     250.0     Medio\n",
      "25      80.0      Sano\n"
     ]
    }
   ],
   "source": [
    "# Cargamos el CSV con las columnas que nos interesan\n",
    "df = pd.read_csv(\"nutrition.csv\", usecols=[\"weight\", \"calories\"])\n",
    "\n",
    "# Analizamos el contenido del DataFrame\n",
    "# print(df.info())\n",
    "# print(df.describe())\n",
    "\n",
    "# Eliminamos las filas donde el peso es diferente de 100\n",
    "df = df.where(df[\"weight\"] == 100)\n",
    "df = df.dropna()\n",
    "# Eliminamos la variable de peso la cual ya no necesitamos\n",
    "df = df.drop(columns=[\"weight\"])\n",
    "\n",
    "# Creamos la columna de categoria_nutricional\n",
    "# Etiquetas: Sano, medio y no sano\n",
    "# Sano: bajo en calorías (0-150 kcal)\n",
    "# Medio: medio en calorías (150-400 kcal)\n",
    "# No sano: alto en calorías (400+ kcal)\n",
    "condiciones = [\n",
    "    df['calories'] <= 150,\n",
    "    (df['calories'] > 150) & (df['calories'] <= 300),\n",
    "    df['calories'] > 300\n",
    "]\n",
    "valores = [\"Sano\", \"Medio\", \"No sano\"]\n",
    "df['categoria'] = np.select(condiciones, valores, default=\"Desconocido\")\n",
    "\n",
    "print(df.head())"
   ]
  },
  {
   "cell_type": "code",
   "execution_count": 33,
   "metadata": {},
   "outputs": [
    {
     "name": "stderr",
     "output_type": "stream",
     "text": [
      "c:\\Users\\SergioSF\\Desktop\\Programacion de Modelos de IA\\Ejercicios y apuntes\\.venv\\lib\\site-packages\\sklearn\\linear_model\\_logistic.py:1247: FutureWarning: 'multi_class' was deprecated in version 1.5 and will be removed in 1.7. From then on, it will always use 'multinomial'. Leave it to its default value to avoid this warning.\n",
      "  warnings.warn(\n"
     ]
    },
    {
     "name": "stdout",
     "output_type": "stream",
     "text": [
      "              precision    recall  f1-score   support\n",
      "\n",
      "        Sano       1.00      1.00      1.00         9\n",
      "       Medio       1.00      1.00      1.00         5\n",
      "     No sano       1.00      1.00      1.00         2\n",
      "\n",
      "    accuracy                           1.00        16\n",
      "   macro avg       1.00      1.00      1.00        16\n",
      "weighted avg       1.00      1.00      1.00        16\n",
      "\n"
     ]
    },
    {
     "data": {
      "text/plain": [
       "<sklearn.metrics._plot.confusion_matrix.ConfusionMatrixDisplay at 0x2993ea820b0>"
      ]
     },
     "execution_count": 33,
     "metadata": {},
     "output_type": "execute_result"
    },
    {
     "data": {
      "image/png": "[encoded data removed]",
      "text/plain": [
       "<Figure size 640x480 with 2 Axes>"
      ]
     },
     "metadata": {},
     "output_type": "display_data"
    }
   ],
   "source": [
    "# Definimos las variables predictoras y la variable objetivo\n",
    "X = df.drop(columns=[\"categoria\"])\n",
    "y = df[\"categoria\"]\n",
    "\n",
    "# Dividimos los datos de entrenamiento y prueba\n",
    "X_train, X_test, y_train, y_test = train_test_split(X, y, test_size=0.3, random_state=42)\n",
    "\n",
    "# Estandarizamos los datos\n",
    "scaler = StandardScaler()\n",
    "X_train = scaler.fit_transform(X_train)\n",
    "X_test = scaler.transform(X_test)\n",
    "\n",
    "# Creamos el modelo de regresión logística multinominal\n",
    "model = LogisticRegression(solver='lbfgs', multi_class='multinomial', max_iter=500) # El parámetro \" multi_class='mulnominal' \" es el que determina que este modelo de RL sea multinominal\n",
    "\n",
    "# Entrenamos el modelo\n",
    "model.fit(X_train, y_train)\n",
    "\n",
    "# Realizamos las predicciones\n",
    "y_pred = model.predict(X_test)\n",
    "\n",
    "# Mostramos el reporte de la clasificación\n",
    "print(classification_report(y_test, y_pred, target_names=[\"Sano\", \"Medio\", \"No sano\"]))\n",
    "\n",
    "# Creamos la matriz de confusión y la mostramos\n",
    "ConfusionMatrixDisplay.from_estimator(model, X_test, y_test, display_labels=[\"Sano\", \"Medio\", \"No sano\"], cmap= plt.colormaps.get_cmap(\"Oranges\"))"
   ]
  }
 ],
 "metadata": {
  "kernelspec": {
   "display_name": ".venv",
   "language": "python",
   "name": "python3"
  },
  "language_info": {
   "codemirror_mode": {
    "name": "ipython",
    "version": 3
   },
   "file_extension": ".py",
   "mimetype": "text/x-python",
   "name": "python",
   "nbconvert_exporter": "python",
   "pygments_lexer": "ipython3",
   "version": "3.10.0"
  }
 },
 "nbformat": 4,
 "nbformat_minor": 2
}
