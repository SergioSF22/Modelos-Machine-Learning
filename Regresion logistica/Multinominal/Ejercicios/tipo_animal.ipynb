{
 "cells": [
  {
   "cell_type": "markdown",
   "metadata": {},
   "source": [
    "### ENTRENAR MODELO DE REGRESIÓN LOGÍSTICA MULTINOMINAL\n",
    "-   Crear un modelo de regresión logística multinomial, que permita clasificar animales con datos sintéticos.\n",
    "-   Etiquetas: 0 para mamífero, 1 para ave y 2 para reptil.\n",
    "-   Las características plumas, patas y temperatura corporal"
   ]
  },
  {
   "cell_type": "code",
   "execution_count": null,
   "metadata": {},
   "outputs": [],
   "source": [
    "# Cargamos las librerías necesarias\n",
    "from sklearn.model_selection import train_test_split\n",
    "from sklearn.linear_model import LogisticRegression\n",
    "from sklearn.metrics import classification_report, ConfusionMatrixDisplay\n",
    "from sklearn.preprocessing import StandardScaler\n",
    "import pandas as pd\n",
    "import numpy as np\n",
    "import matplotlib as plt"
   ]
  },
  {
   "cell_type": "code",
   "execution_count": 17,
   "metadata": {},
   "outputs": [
    {
     "name": "stdout",
     "output_type": "stream",
     "text": [
      "              precision    recall  f1-score   support\n",
      "\n",
      "    Mamífero       1.00      1.00      1.00        29\n",
      "         Ave       1.00      1.00      1.00        48\n",
      "      Reptil       1.00      1.00      1.00        13\n",
      "\n",
      "    accuracy                           1.00        90\n",
      "   macro avg       1.00      1.00      1.00        90\n",
      "weighted avg       1.00      1.00      1.00        90\n",
      "\n"
     ]
    },
    {
     "name": "stderr",
     "output_type": "stream",
     "text": [
      "c:\\Users\\SergioSF\\Desktop\\Programacion de Modelos de IA\\Ejercicios y apuntes\\.venv\\lib\\site-packages\\sklearn\\linear_model\\_logistic.py:1247: FutureWarning: 'multi_class' was deprecated in version 1.5 and will be removed in 1.7. From then on, it will always use 'multinomial'. Leave it to its default value to avoid this warning.\n",
      "  warnings.warn(\n"
     ]
    },
    {
     "data": {
      "text/plain": [
       "<sklearn.metrics._plot.confusion_matrix.ConfusionMatrixDisplay at 0x215b10c3c40>"
      ]
     },
     "execution_count": 17,
     "metadata": {},
     "output_type": "execute_result"
    },
    {
     "data": {
      "image/png": "[encoded data removed]",
      "text/plain": [
       "<Figure size 640x480 with 2 Axes>"
      ]
     },
     "metadata": {},
     "output_type": "display_data"
    }
   ],
   "source": [
    "# Generar datos sintéticos para clasificación de especies de animales\n",
    "# Etiquetas: 0 Mamíferos, 1 Aves, 2 Reptiles\n",
    "# Características: 0 Pelo, 1 Plumas, 2 Escamas\n",
    "\n",
    "np.random.seed(42)\n",
    "n_samples = 300\n",
    "\n",
    "# Características de los animales\n",
    "temperatura = np.random.choice([35, 37, 40], n_samples)\n",
    "num_patas = np.random.choice([0, 2, 4], n_samples)\n",
    "plumas = np.random.choice([0, 1], n_samples)\n",
    "\n",
    "# Etiquetas de los animales\n",
    "y = np.where(plumas == 1, 1, np.where(temperatura >= 37, 0, 2)) # Si tiene plumas es un Ave, si no tiene plumas pero su temperatura es igual o superior a 37 es un mamífero si no; es un reptil.\n",
    "\n",
    "# Creamos el DataFrame con los datos sintéticos generados\n",
    "df = pd.DataFrame({\n",
    "    'temperatura' : temperatura,\n",
    "    'num_patas' : num_patas,\n",
    "    'plumas' : plumas,\n",
    "    'Clase' : y\n",
    "})\n",
    "\n",
    "# Definimos las variables predictoras y la variable objetivo\n",
    "X = df.drop(columns=[\"Clase\"])\n",
    "y = df[\"Clase\"]\n",
    "\n",
    "# Dividimos los datos de entrenamiento y prueba\n",
    "X_train, X_test, y_train, y_test = train_test_split(X, y, test_size=0.3, random_state=42)\n",
    "\n",
    "# Estandarizamos los datos\n",
    "scaler = StandardScaler()\n",
    "X_train = scaler.fit_transform(X_train)\n",
    "X_test = scaler.transform(X_test)\n",
    "\n",
    "# Creamos el modelo de regresión logística multinominal\n",
    "model = LogisticRegression(solver='lbfgs', multi_class='multinomial', max_iter=500) # El parámetro \" multi_class='mulnominal' \" es el que determina que este modelo de RL sea multinominal\n",
    "\n",
    "# Entrenamos el modelo\n",
    "model.fit(X_train, y_train)\n",
    "\n",
    "# Realizamos las predicciones\n",
    "y_pred = model.predict(X_test)\n",
    "\n",
    "# Mostramos el reporte de la clasificación\n",
    "print(classification_report(y_test, y_pred, target_names=[\"Mamífero\", \"Ave\", \"Reptil\"]))\n",
    "\n",
    "# Creamos la matriz de confusión y la mostramos\n",
    "ConfusionMatrixDisplay.from_estimator(model, X_test, y_test, display_labels=[\"Mamífero\", \"Ave\", \"Reptil\"], cmap= plt.colormaps.get_cmap(\"Oranges\"))"
   ]
  },
  {
   "cell_type": "code",
   "execution_count": 27,
   "metadata": {},
   "outputs": [
    {
     "name": "stdout",
     "output_type": "stream",
     "text": [
      "Introduce los datos del nuevo animal para predecir su clase: \n",
      "El animal es un Ave\n",
      "Probabilidad de acierto: 97.84 %\n"
     ]
    },
    {
     "name": "stderr",
     "output_type": "stream",
     "text": [
      "c:\\Users\\SergioSF\\Desktop\\Programacion de Modelos de IA\\Ejercicios y apuntes\\.venv\\lib\\site-packages\\sklearn\\utils\\validation.py:2739: UserWarning: X does not have valid feature names, but StandardScaler was fitted with feature names\n",
      "  warnings.warn(\n"
     ]
    }
   ],
   "source": [
    "# Función para predecir la clase de un animal\n",
    "def predecir_animal():\n",
    "    # Solicita al usuario los datos del animal a predecir\n",
    "    print(\"Introduce los datos del nuevo animal para predecir su clase: \")\n",
    "    temperatura = float(input(\"Temperatura del animal (35, 37, 40): \"))\n",
    "    num_patas = float(input(\"Temperatura del animal (0, 2, 4): \"))\n",
    "    plumas = float(input(\"Temperatura del animal (0 o 1): \"))\n",
    "\n",
    "    # Crear un array de numpy con los nuevos datos\n",
    "    X_new = np.array([[temperatura, num_patas, plumas]])\n",
    "    X_new_scaled = scaler.transform(X_new)\n",
    "\n",
    "    # Realizamos la prediccion\n",
    "    y_new = model.predict(X_new_scaled)\n",
    "    probabilidad = model.predict_proba(X_new_scaled)[0][y_new] * 100\n",
    "\n",
    "    # Mostrar resultado\n",
    "    if y_new == 0:\n",
    "        resultado = \"Mamífero\"\n",
    "    elif y_new == 1:\n",
    "        resultado = \"Ave\"\n",
    "    else:\n",
    "        resultado = \"Reptil\"\n",
    "    \n",
    "    print(f\"El animal es un {resultado}\")\n",
    "    print(f\"Probabilidad de acierto: {probabilidad[0]:.2f} %\")\n",
    "\n",
    "# Llamamos a la función\n",
    "predecir_animal()"
   ]
  }
 ],
 "metadata": {
  "kernelspec": {
   "display_name": ".venv",
   "language": "python",
   "name": "python3"
  },
  "language_info": {
   "codemirror_mode": {
    "name": "ipython",
    "version": 3
   },
   "file_extension": ".py",
   "mimetype": "text/x-python",
   "name": "python",
   "nbconvert_exporter": "python",
   "pygments_lexer": "ipython3",
   "version": "3.10.0"
  }
 },
 "nbformat": 4,
 "nbformat_minor": 2
}
